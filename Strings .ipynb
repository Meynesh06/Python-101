{
 "cells": [
  {
   "cell_type": "code",
   "execution_count": 1,
   "id": "27c1f7df",
   "metadata": {},
   "outputs": [
    {
     "name": "stdout",
     "output_type": "stream",
     "text": [
      "Hello World\n"
     ]
    }
   ],
   "source": [
    "# print \"hello world\"\n",
    "print(\"Hello World\")"
   ]
  },
  {
   "cell_type": "markdown",
   "id": "6d08424b",
   "metadata": {},
   "source": [
    "In Python, variables are used to store and manipulate data. They act as labels that reference specific values in memory. When naming variables, it's important to follow naming conventions to write clean, readable, and consistent code. Here are the key points about variables and naming conventions in Python:\n",
    "\n",
    "1. **Variable Names:**\n",
    "   - Variable names can consist of letters (both uppercase and lowercase), numbers, and underscores (`_`).\n",
    "   - They must start with a letter (a-z, A-Z) or an underscore (`_`).\n",
    "   - Variable names are case-sensitive, meaning `my_variable` and `My_Variable` are considered different.\n",
    "\n",
    "2. **Naming Conventions:**\n",
    "   - **Snake Case:** The most common convention for variable names in Python is snake case. Words are separated by underscores. Example: `my_variable_name`.\n",
    "   - **Camel Case:** Another convention is camel case, where words are joined without spaces and each word starts with a capital letter except the first one. Example: `myVariableName`.\n",
    "   - **Pascal Case (Upper Camel Case):** Similar to camel case, but the first letter is capitalized as well. Used mostly for naming classes or types. Example: `MyClassName`.\n",
    "\n",
    "3. **Choosing Meaningful Names:**\n",
    "   - Choose descriptive names that convey the purpose or content of the variable.\n",
    "   - Avoid using single letters (except in cases like loop counters) or unclear abbreviations.\n",
    "   - Prioritize readability and understanding over brevity.\n",
    "\n",
    "4. **Reserved Words:**\n",
    "   - Avoid using Python's reserved words (keywords) as variable names. Examples: `if`, `else`, `while`, `for`, `def`, `class`, etc.\n",
    "\n",
    "5. **Consistency:**\n",
    "   - Maintain a consistent naming convention throughout your codebase for improved readability.\n",
    "\n",
    "6. **Examples:**\n",
    "   - Good: `total_count`, `user_name`, `is_active`\n",
    "   - Avoid: `tC`, `u_n`, `IsActive`\n",
    "\n",
    "7. **Best Practices:**\n",
    "   - Use lowercase for variable names unless you're following Pascal Case for class names.\n",
    "   - For constants (values that don't change), use uppercase with underscores. Example: `MAX_SIZE`.\n",
    "   - Use clear, descriptive variable names even if they are longer. Clarity is more important than brevity.\n",
    "\n",
    "Here are some variable naming examples using snake case:\n",
    "```python\n",
    "first_name = \"John\"\n",
    "last_name = \"Doe\"\n",
    "age = 30\n",
    "is_student = True\n",
    "```\n",
    "\n",
    "Remember, writing clean and readable code is essential for collaboration and maintenance, so take naming conventions seriously to create code that's easy for you and others to understand."
   ]
  },
  {
   "cell_type": "code",
   "execution_count": 2,
   "id": "5b33496c",
   "metadata": {},
   "outputs": [
    {
     "name": "stdout",
     "output_type": "stream",
     "text": [
      "Hello World\n"
     ]
    }
   ],
   "source": [
    "# use single qoutes or double qoutes for string depending on the string \n",
    "message = 'Hello World'\n",
    "print(message)"
   ]
  },
  {
   "cell_type": "code",
   "execution_count": 3,
   "id": "3808cf74",
   "metadata": {},
   "outputs": [
    {
     "name": "stdout",
     "output_type": "stream",
     "text": [
      "11\n"
     ]
    }
   ],
   "source": [
    "#len function returns length of string(0 indexed)\n",
    "print(len(message))"
   ]
  },
  {
   "cell_type": "code",
   "execution_count": 7,
   "id": "717dd42b",
   "metadata": {},
   "outputs": [
    {
     "name": "stdout",
     "output_type": "stream",
     "text": [
      "H\n",
      "Hello W\n",
      "Hello Wo\n",
      "World\n"
     ]
    }
   ],
   "source": [
    "# Fetching charachters by index \n",
    "print(message[0])\n",
    "# fetching chararacters by range [begin index:end index]\n",
    "print(message[0:7])\n",
    "#leaving begin index empty and end index empty \n",
    "print(message[:8])\n",
    "print(message[6:])"
   ]
  },
  {
   "cell_type": "markdown",
   "id": "a10779f8",
   "metadata": {},
   "source": [
    "Sure, here are some commonly used string methods in Python along with code examples:\n",
    "\n",
    "1. **`len()`**: Returns the length of the string.\n",
    "```python\n",
    "my_string = \"Hello, World!\"\n",
    "length = len(my_string)\n",
    "print(length)  # Output: 13\n",
    "```\n",
    "\n",
    "2. **`.lower()`**: Converts the string to lowercase.\n",
    "```python\n",
    "my_string = \"Hello, World!\"\n",
    "lower_string = my_string.lower()\n",
    "print(lower_string)  # Output: hello, world!\n",
    "```\n",
    "\n",
    "3. **`.upper()`**: Converts the string to uppercase.\n",
    "```python\n",
    "my_string = \"Hello, World!\"\n",
    "upper_string = my_string.upper()\n",
    "print(upper_string)  # Output: HELLO, WORLD!\n",
    "```\n",
    "\n",
    "4. **`.capitalize()`**: Converts the first character to uppercase, and the rest to lowercase.\n",
    "```python\n",
    "my_string = \"hello, world!\"\n",
    "capitalized_string = my_string.capitalize()\n",
    "print(capitalized_string)  # Output: Hello, world!\n",
    "```\n",
    "\n",
    "5. **`.title()`**: Converts the first character of each word to uppercase, and the rest to lowercase.\n",
    "```python\n",
    "my_string = \"hello, world!\"\n",
    "title_string = my_string.title()\n",
    "print(title_string)  # Output: Hello, World!\n",
    "```\n",
    "\n",
    "6. **`.strip()`**: Removes leading and trailing whitespace characters.\n",
    "```python\n",
    "my_string = \"   Hello, World!   \"\n",
    "stripped_string = my_string.strip()\n",
    "print(stripped_string)  # Output: Hello, World!\n",
    "```\n",
    "\n",
    "7. **`.replace()`**: Replaces occurrences of a substring with another substring.\n",
    "```python\n",
    "my_string = \"Hello, World!\"\n",
    "new_string = my_string.replace(\"World\", \"Python\")\n",
    "print(new_string)  # Output: Hello, Python!\n",
    "```\n",
    "\n",
    "8. **`.split()`**: Splits the string into a list of substrings based on a delimiter.\n",
    "```python\n",
    "my_string = \"apple,banana,orange\"\n",
    "fruits = my_string.split(',')\n",
    "print(fruits)  # Output: ['apple', 'banana', 'orange']\n",
    "```\n",
    "\n",
    "9. **`.join()`**: Joins a list of strings into a single string using a specified delimiter.\n",
    "```python\n",
    "fruits = ['apple', 'banana', 'orange']\n",
    "joined_string = ','.join(fruits)\n",
    "print(joined_string)  # Output: apple,banana,orange\n",
    "```\n",
    "\n",
    "10. **`.startswith()`** and **`.endswith()`**: Checks if the string starts or ends with a specified substring.\n",
    "```python\n",
    "my_string = \"Hello, World!\"\n",
    "starts_with_hello = my_string.startswith(\"Hello\")\n",
    "ends_with_world = my_string.endswith(\"World\")\n",
    "print(starts_with_hello)  # Output: True\n",
    "print(ends_with_world)    # Output: False\n",
    "```\n",
    "\n",
    "11. **`.find()`**: Searches for a substring and returns the index of the first occurrence (or -1 if not found).\n",
    "```python\n",
    "my_string = \"Hello, World!\"\n",
    "index = my_string.find(\"World\")\n",
    "print(index)  # Output: 7\n",
    "```\n",
    "\n",
    "12. **`.count()`**: Counts the occurrences of a substring in the string.\n",
    "```python\n",
    "my_string = \"Hello, World!\"\n",
    "count = my_string.count(\"l\")\n",
    "print(count)  # Output: 3\n",
    "```\n",
    "\n",
    "These are just a few of the many string methods available in Python. You can explore more methods and their functionalities in the official Python documentation.\n",
    "https://docs.python.org/3/library/stdtypes.html#string-methods\n"
   ]
  },
  {
   "cell_type": "markdown",
   "id": "87305a79",
   "metadata": {},
   "source": [
    "String concatenation in Python refers to the process of combining multiple strings together to create a single, longer string. This is commonly done using the `+` operator or by using string formatting methods. Here are some examples to illustrate string concatenation:\n",
    "\n",
    "1. Using the `+` Operator:\n",
    "```python\n",
    "first_name = \"John\"\n",
    "last_name = \"Doe\"\n",
    "full_name = first_name + \" \" + last_name\n",
    "print(full_name)  # Output: John Doe\n",
    "```\n",
    "\n",
    "2. Combining Strings with Other Data Types:\n",
    "```python\n",
    "name = \"Alice\"\n",
    "age = 30\n",
    "message = \"My name is \" + name + \" and I am \" + str(age) + \" years old.\"\n",
    "print(message)  # Output: My name is Alice and I am 30 years old.\n",
    "```\n",
    "\n",
    "3. Using String Formatting (f-strings):\n",
    "```python\n",
    "first_name = \"John\"\n",
    "last_name = \"Doe\"\n",
    "full_name = f\"{first_name} {last_name}\"\n",
    "print(full_name)  # Output: John Doe\n",
    "```\n",
    "\n",
    "4. Using the `.format()` Method:\n",
    "```python\n",
    "first_name = \"John\"\n",
    "last_name = \"Doe\"\n",
    "full_name = \"{} {}\".format(first_name, last_name)\n",
    "print(full_name)  # Output: John Doe\n",
    "```\n",
    "\n",
    "5. Concatenating Strings within Lists:\n",
    "```python\n",
    "words = [\"Hello\", \"world\", \"!\"]\n",
    "sentence = \" \".join(words)\n",
    "print(sentence)  # Output: Hello world !\n",
    "```\n",
    "\n",
    "6. Concatenating Strings with Line Breaks:\n",
    "```python\n",
    "lines = [\"Line 1\", \"Line 2\", \"Line 3\"]\n",
    "paragraph = \"\\n\".join(lines)\n",
    "print(paragraph)\n",
    "# Output:\n",
    "# Line 1\n",
    "# Line 2\n",
    "# Line 3\n",
    "```\n",
    "\n",
    "It's important to note that strings are immutable in Python, which means that when you perform string concatenation, a new string is created in memory. If you need to perform many concatenations, especially within a loop, it's often more efficient to use a list to accumulate the parts and then join them using `str.join()` to form the final string.\n",
    "\n",
    "Also, be cautious when concatenating a large number of strings using the `+` operator, as it can lead to performance issues due to the creation of multiple intermediate strings. In such cases, using methods like `str.join()` or formatted strings (f-strings) can be more efficient."
   ]
  }
 ],
 "metadata": {
  "kernelspec": {
   "display_name": "Python 3 (ipykernel)",
   "language": "python",
   "name": "python3"
  },
  "language_info": {
   "codemirror_mode": {
    "name": "ipython",
    "version": 3
   },
   "file_extension": ".py",
   "mimetype": "text/x-python",
   "name": "python",
   "nbconvert_exporter": "python",
   "pygments_lexer": "ipython3",
   "version": "3.11.4"
  }
 },
 "nbformat": 4,
 "nbformat_minor": 5
}
